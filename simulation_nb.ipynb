{
 "cells": [
  {
   "cell_type": "code",
   "execution_count": 1,
   "metadata": {},
   "outputs": [],
   "source": [
    "from definitions import Arena\n",
    "import time"
   ]
  },
  {
   "cell_type": "code",
   "execution_count": 2,
   "metadata": {},
   "outputs": [],
   "source": [
    "arena = Arena()"
   ]
  },
  {
   "cell_type": "code",
   "execution_count": 3,
   "metadata": {},
   "outputs": [],
   "source": [
    "# Initial Particles counter\n",
    "particle_no = 5\n",
    "# Initial Food counter\n",
    "food_no = 33\n",
    "\n",
    "for _ in range(particle_no):\n",
    "    arena.spawn_particles()\n",
    "\n",
    "for _ in range(food_no):\n",
    "    arena.respawn_food()"
   ]
  },
  {
   "cell_type": "code",
   "execution_count": 35,
   "metadata": {},
   "outputs": [],
   "source": [
    "# arena.render()\n"
   ]
  },
  {
   "cell_type": "code",
   "execution_count": 4,
   "metadata": {},
   "outputs": [],
   "source": [
    "from IPython.display import clear_output\n",
    "\n",
    "for i in range(60):\n",
    "    arena.update_particles()\n",
    "    # time.sleep(0.4)\n",
    "    # arena.render()\n",
    "    clear_output()\n"
   ]
  },
  {
   "cell_type": "code",
   "execution_count": 5,
   "metadata": {},
   "outputs": [
    {
     "name": "stdout",
     "output_type": "stream",
     "text": [
      "QAQX 5 1 16 (86.8, 173.4)\n",
      "6A83 5 1 27 (86.8, 173.3)\n",
      "CSGO 5 1 10 (86.8, 129.6)\n",
      "CKRW 5 1 14 (135.2, 165.9)\n",
      "CF9U 4 1 14 (177.0, 78.1)\n"
     ]
    }
   ],
   "source": [
    "for particle in arena.particles:\n",
    "    print(particle.name, particle.size, particle.velocity, particle.hunger, particle.position)"
   ]
  }
 ],
 "metadata": {
  "kernelspec": {
   "display_name": "Python 3",
   "language": "python",
   "name": "python3"
  },
  "language_info": {
   "codemirror_mode": {
    "name": "ipython",
    "version": 3
   },
   "file_extension": ".py",
   "mimetype": "text/x-python",
   "name": "python",
   "nbconvert_exporter": "python",
   "pygments_lexer": "ipython3",
   "version": "3.11.4"
  },
  "orig_nbformat": 4
 },
 "nbformat": 4,
 "nbformat_minor": 2
}
