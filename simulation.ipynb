{
 "cells": [
  {
   "cell_type": "code",
   "execution_count": 1,
   "metadata": {},
   "outputs": [],
   "source": [
    "from definitions import Arena\n",
    "import time"
   ]
  },
  {
   "cell_type": "code",
   "execution_count": 2,
   "metadata": {},
   "outputs": [],
   "source": [
    "arena = Arena()"
   ]
  },
  {
   "cell_type": "code",
   "execution_count": 3,
   "metadata": {},
   "outputs": [],
   "source": [
    "# Initial Particles counter\n",
    "particle_no = 10\n",
    "# Initial Food counter\n",
    "food_no = 5\n",
    "\n",
    "for _ in range(particle_no):\n",
    "    arena.spawn_particles()\n",
    "\n",
    "for _ in range(food_no):\n",
    "    arena.respawn_food()"
   ]
  },
  {
   "cell_type": "code",
   "execution_count": 4,
   "metadata": {},
   "outputs": [
    {
     "name": "stdout",
     "output_type": "stream",
     "text": [
      "                                                                                                                                                      \n",
      "                                                                                                                                                      \n",
      "                                                                                                                              F(42, 2)                     \n",
      "                                                                                                                                                      \n",
      "            P('JPWR', (4, 4))                                                                                                               P('TQ1Y', (42, 4))                     \n",
      "                                                                                                                                                      \n",
      "                                                                        P('X9AF', (24, 6))                                                                           \n",
      "                                                                                                                                                      \n",
      "                                 F(11, 8)                                             F(27, 8)                                                                  \n",
      "                                                                                                                                                      \n",
      "                                                                                                                                                      \n",
      "                                                                                                   P('U0RQ', (33, 11))                                                \n",
      "                                                                                                                                                      \n",
      "            P('B6KB', (4, 13))                                                                                                                                       \n",
      "                                                                                                                                                      \n",
      "                                                                                                                                                      \n",
      "                                                                                                                                                      \n",
      "                                                                                                                                                      \n",
      "                                                                                                                                       P('YPM0', (45, 18))            \n",
      "                                          F(14, 19)                                                                                                         \n",
      "                                                                                                                                                      \n",
      "                                                                                                                                                      \n",
      "                  P('LOSP', (6, 22))                                                                                                                                 \n",
      "                                                                                                                                                      \n",
      "                                                                                                                                                      \n",
      "                                                                                                                                                      \n",
      "                                                                                                                                                      \n",
      "                                                                                                                                                      \n",
      "                                                                                                                                                      \n",
      "                                       P('2TJF', (13, 29))                                                                                                            \n",
      "                                                            P('SOTZ', (20, 30))                                                                              P('WR1E', (47, 30))      \n",
      "                                                                                                                                                      \n",
      "                                                                                                                                                      \n",
      "                                                                                                                                                      \n",
      "                                                                                                                                                      \n",
      "                                                                                                                                                      \n",
      "                                                                                                                                                      \n",
      "                                                                                                                                                      \n",
      "                                                                                                                                                      \n",
      "                                                                                                                                                      \n",
      "                                    F(12, 40)                                                                                                               \n",
      "                                                                                                                                                      \n",
      "                                                                                                                                                      \n",
      "                                                                                                                                                      \n",
      "                                                                                                                                                      \n"
     ]
    }
   ],
   "source": [
    "\n",
    "arena.render()\n"
   ]
  },
  {
   "cell_type": "code",
   "execution_count": 5,
   "metadata": {},
   "outputs": [
    {
     "name": "stdout",
     "output_type": "stream",
     "text": [
      "                                                                                                                                                      \n",
      "                                                                                                                                                      \n",
      "                                                                                                                              F(42, 2)                     \n",
      "                                                                                                                                                      \n",
      "                                                                                                                                                      \n",
      "                                                                                                                                                      \n",
      "                                                                                                                                                      \n",
      "                                                                                                                                                      \n",
      "                                 F(11, 8)                                             F(27, 8)                                          P('YPM0', (42, 8))                     \n",
      "                                                                                                                                                      \n",
      "                                                                                                                                                      \n",
      "                                                                                                                                                      \n",
      "                                                                                                                                                      \n",
      "                                                                                                                                                      \n",
      "                                                                                                                                                      \n",
      "                                                                                                                                                      \n",
      "                                                                                                                                                      \n",
      "                                                                                                                                                      \n",
      "                                                                                                                                                      \n",
      "                                          F(14, 19)                                                                                                         \n",
      "                                          P('SOTZ', (14, 20))                                                                                                         \n",
      "                                                                                                                                                      \n",
      "                                                                                                                                                      \n",
      "                                                                                                                                                      \n",
      "                                                                                                                                                      \n",
      "                                                                                                                                                      \n",
      "                                                                                                                                                      \n",
      "                                                                                                                                                      \n",
      "                                                                                                                                                      \n",
      "                                                                                                                                                      \n",
      "                                                                                                                                                      \n",
      "                                                                                                                                                      \n",
      "                                                                                                                                                      \n",
      "                                                                                                                                                      \n",
      "                                                                                                                                                      \n",
      "                                                                                                                                                      \n",
      "                                                                                                                                                      \n",
      "                                                                                                                                                      \n",
      "                                                                                                                                                      \n",
      "                                                                                                                                                      \n",
      "                                    F(12, 40)                                                                                                               \n",
      "                                                                                                                                                      \n",
      "                                                                                                                                                      \n",
      "                                                                                                                                                      \n",
      "                                                                                                                                                      \n"
     ]
    }
   ],
   "source": [
    "from IPython.display import clear_output\n",
    "\n",
    "for i in range(10):\n",
    "    arena.update_particles()\n",
    "    time.sleep(0.4)\n",
    "    clear_output()\n",
    "    arena.render()"
   ]
  }
 ],
 "metadata": {
  "kernelspec": {
   "display_name": "Python 3",
   "language": "python",
   "name": "python3"
  },
  "language_info": {
   "codemirror_mode": {
    "name": "ipython",
    "version": 3
   },
   "file_extension": ".py",
   "mimetype": "text/x-python",
   "name": "python",
   "nbconvert_exporter": "python",
   "pygments_lexer": "ipython3",
   "version": "3.11.4"
  },
  "orig_nbformat": 4
 },
 "nbformat": 4,
 "nbformat_minor": 2
}
