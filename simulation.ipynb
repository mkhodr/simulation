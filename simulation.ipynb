{
 "cells": [
  {
   "cell_type": "code",
   "execution_count": 16,
   "metadata": {},
   "outputs": [],
   "source": [
    "from definitions import Arena\n",
    "import time"
   ]
  },
  {
   "cell_type": "code",
   "execution_count": 17,
   "metadata": {},
   "outputs": [],
   "source": [
    "arena = Arena()"
   ]
  },
  {
   "cell_type": "code",
   "execution_count": 18,
   "metadata": {},
   "outputs": [],
   "source": [
    "# Initial Particles counter\n",
    "particle_no = 10\n",
    "# Initial Food counter\n",
    "food_no = 5\n",
    "\n",
    "for _ in range(particle_no):\n",
    "    arena.spawn_particles()\n",
    "\n",
    "for _ in range(food_no):\n",
    "    arena.respawn_food()"
   ]
  },
  {
   "cell_type": "code",
   "execution_count": 19,
   "metadata": {},
   "outputs": [
    {
     "name": "stdout",
     "output_type": "stream",
     "text": [
      "                                                                                                                                                      \n",
      "                                                                                                                                                      \n",
      "                                                                                                         P('CWEG', (35, 2))                                          \n",
      "                                                                                                                                                      \n",
      "                                                                                                                                                      \n",
      "                                                                                                                                                      \n",
      "                                                                                                                                                      \n",
      "                                                                              P('YMY5', (26, 7))                                                                     \n",
      "                                                                                                                                          P('AC43', (46, 8))         \n",
      "                                                                                                                                          P('AYNN', (46, 9))         \n",
      "                                                                                                                                                      \n",
      "                                       P('W2TU', (13, 11))                                                                                                            \n",
      "                                                                                                                                                      \n",
      "                                                                                                                                                      \n",
      "                                                                                                                                                      \n",
      "                                                                                                                                                      \n",
      "                                                                                                                                                      \n",
      "                                                                  F(22, 17)                                       F(36, 17)                                       \n",
      "                                                                                                                                                      \n",
      "                                                                                                                                                      \n",
      "                                                                                                                                                      \n",
      "                                                                                                                                                      \n",
      "                                                                                                                                                      \n",
      "                        P('TVEA', (8, 23))                                                                                                      P('LPDF', (43, 23))                  \n",
      "            P('CISH', (4, 24))                                                                                                                                       \n",
      "                                                                                                                                                      \n",
      "                                                                                                                                                      \n",
      "                                                                                                                                                      \n",
      "                                                                                                                                                      \n",
      "                                                                                                                                                      \n",
      "                                                               F(21, 30)                                                                                    \n",
      "                                                                                                                                                      \n",
      "                                                                                                                                                      \n",
      "                                                                                                         F(35, 33)                                          \n",
      "      P('FZ2Q', (2, 34))         F(6, 34)                                                                                                                                 \n",
      "                                                                                                                                                      \n",
      "                                                                                                                                                      \n",
      "                                                                                                                                                      \n",
      "                                                                                                                                                      \n",
      "                                                                                                                                                      \n",
      "                                                                                                                                                      \n",
      "                                                                                                                                          P('57K1', (46, 41))         \n",
      "                                                                                                                                                      \n",
      "                                                                                                                                                      \n",
      "                                                                                                                                                      \n"
     ]
    }
   ],
   "source": [
    "\n",
    "arena.render()\n"
   ]
  },
  {
   "cell_type": "code",
   "execution_count": 20,
   "metadata": {},
   "outputs": [
    {
     "name": "stdout",
     "output_type": "stream",
     "text": [
      "                                                                                                                                                      \n",
      "                                                                                                                                                      \n",
      "                                                                                                                                                      \n",
      "                                                                                                                                                      \n",
      "                                                                                                                                                      \n",
      "                                                                                                                                                      \n",
      "                                                                                                                                                      \n",
      "                                                                                                                                                      \n",
      "                                                                                                                                                      \n",
      "                                                                                                                                                      \n",
      "                                                                                                                                                      \n",
      "                                                                                                                                                      \n",
      "                                                                                                                                                      \n",
      "                                                                                                                                                      \n",
      "                                                                                                                                                      \n",
      "                                                                                                                                                      \n",
      "                                                                                                                                                      \n",
      "                                                                  F(22, 17)                                       F(36, 17)                                       \n",
      "                                                                                                                                                      \n",
      "                                                                                                                                                      \n",
      "                                                                                                                                                      \n",
      "                                                                                                                                                      \n",
      "                                                                                                                                                      \n",
      "                                                                                                                                                      \n",
      "                                                                                                                                                      \n",
      "                                                                                                                                                      \n",
      "                                                                                                                                                      \n",
      "                                                                                                                                                      \n",
      "                                                                                                                                                      \n",
      "                                                                                                                                                      \n",
      "                                                               F(21, 30)                                                                                    \n",
      "                                                                                                                                                      \n",
      "                                                                                                                                                      \n",
      "                                                                                                         F(35, 33)                                          \n",
      "                  F(6, 34)                                                                                                                                 \n",
      "                                                                                                                                                      \n",
      "                                                                                                                                                      \n",
      "                                                                                                                                                      \n",
      "                                                                                                                                                      \n",
      "                                                                                                                                                      \n",
      "                                                                                                                                                      \n",
      "                                                                                                                                                      \n",
      "                                                                                                                                                      \n",
      "                                                                                                                                                      \n",
      "                                                                                                                                                      \n"
     ]
    },
    {
     "ename": "KeyboardInterrupt",
     "evalue": "",
     "output_type": "error",
     "traceback": [
      "\u001b[1;31m---------------------------------------------------------------------------\u001b[0m",
      "\u001b[1;31mKeyboardInterrupt\u001b[0m                         Traceback (most recent call last)",
      "Cell \u001b[1;32mIn[20], line 5\u001b[0m\n\u001b[0;32m      3\u001b[0m \u001b[39mfor\u001b[39;00m i \u001b[39min\u001b[39;00m \u001b[39mrange\u001b[39m(\u001b[39m40\u001b[39m):\n\u001b[0;32m      4\u001b[0m     arena\u001b[39m.\u001b[39mupdate_particles()\n\u001b[1;32m----> 5\u001b[0m     time\u001b[39m.\u001b[39msleep(\u001b[39m0.4\u001b[39m)\n\u001b[0;32m      6\u001b[0m     clear_output()\n\u001b[0;32m      7\u001b[0m     arena\u001b[39m.\u001b[39mrender()\n",
      "\u001b[1;31mKeyboardInterrupt\u001b[0m: "
     ]
    }
   ],
   "source": [
    "from IPython.display import clear_output\n",
    "\n",
    "for i in range(40):\n",
    "    arena.update_particles()\n",
    "    time.sleep(0.4)\n",
    "    clear_output()\n",
    "    arena.render()"
   ]
  }
 ],
 "metadata": {
  "kernelspec": {
   "display_name": "Python 3",
   "language": "python",
   "name": "python3"
  },
  "language_info": {
   "codemirror_mode": {
    "name": "ipython",
    "version": 3
   },
   "file_extension": ".py",
   "mimetype": "text/x-python",
   "name": "python",
   "nbconvert_exporter": "python",
   "pygments_lexer": "ipython3",
   "version": "3.11.4"
  },
  "orig_nbformat": 4
 },
 "nbformat": 4,
 "nbformat_minor": 2
}
